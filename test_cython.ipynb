{
 "cells": [
  {
   "cell_type": "code",
   "execution_count": 1,
   "id": "63ee7d3d",
   "metadata": {},
   "outputs": [
    {
     "name": "stdout",
     "output_type": "stream",
     "text": [
      "Versão do Cython: 3.0.12\n"
     ]
    }
   ],
   "source": [
    "import sys, subprocess, importlib\n",
    "try:\n",
    "    import Cython\n",
    "    print(\"Versão do Cython:\", Cython.__version__)\n",
    "except ImportError:\n",
    "    print(\"Cython não está instalado neste kernel:\", sys.executable)\n"
   ]
  },
  {
   "cell_type": "code",
   "execution_count": 2,
   "id": "b5b6d99c",
   "metadata": {},
   "outputs": [],
   "source": [
    "from Cython.Compiler import Options\n",
    "\n",
    "Options.language_level = 3 # Python 3\n",
    "Options.boundscheck = False # Desliga a checagem de limites em acessos a arrays (loops de acesso a vetor ficam bem mais rápidos)\n",
    "Options.wraparound = False # Desliga o suporte a índices negativos a[-1] (aumenta desempenho)\n",
    "Options.cdivision = True # Usa a divisão inteira de C para tipos inteiros (divisão de inteiros fica mais rápida, pois evita verificações de exceção)\n",
    "\n",
    "%load_ext Cython"
   ]
  },
  {
   "cell_type": "code",
   "execution_count": 3,
   "id": "04e79a78",
   "metadata": {},
   "outputs": [],
   "source": [
    "def soma_py(n: int) -> int:\n",
    "    acc = 0\n",
    "    for i in range(n):\n",
    "        acc += i\n",
    "        \n",
    "    return acc"
   ]
  },
  {
   "cell_type": "code",
   "execution_count": 4,
   "id": "ca8fc0c3",
   "metadata": {},
   "outputs": [],
   "source": [
    "%%cython\n",
    "# cython: language_level=3, boundscheck=False, wraparound=False, cdivision=True\n",
    "\n",
    "def soma_cy(int n):\n",
    "    cdef long acc = 0\n",
    "    cdef int i\n",
    "    for i in range(n):\n",
    "        acc += i\n",
    "    return acc\n"
   ]
  },
  {
   "cell_type": "code",
   "execution_count": 5,
   "id": "9b7fb7fc",
   "metadata": {},
   "outputs": [
    {
     "name": "stdout",
     "output_type": "stream",
     "text": [
      "soma_py : média 0.488434 s  (±0.076273)\n",
      "soma_cy : média 0.004472 s  (±0.000569)\n",
      "\n",
      "Speed-up ≈ 109.2×\n"
     ]
    }
   ],
   "source": [
    "import timeit, statistics\n",
    "\n",
    "N = 10_000_000        # tamanho do problema\n",
    "R = 5                 # quantas repetições queremos medir\n",
    "\n",
    "# helper genérico para qualquer função  -----------------------------\n",
    "def bench(fn, *args, repeat=R, number=1):\n",
    "    timings = timeit.repeat(\n",
    "        lambda: fn(*args),\n",
    "        repeat=repeat,\n",
    "        number=number,\n",
    "    )\n",
    "    \n",
    "    avg = statistics.mean(timings)\n",
    "    print(f\"{fn.__name__:8s}: média {avg:.6f} s  \"f\"(±{statistics.stdev(timings):.6f})\")\n",
    "    return avg\n",
    "\n",
    "# execução -----------------------------------------------------------\n",
    "t_py = bench(soma_py, N)\n",
    "t_cy = bench(soma_cy, N)\n",
    "\n",
    "print(f\"\\nSpeed-up ≈ {t_py / t_cy:.1f}×\")\n"
   ]
  },
  {
   "cell_type": "code",
   "execution_count": null,
   "id": "9454dc99",
   "metadata": {},
   "outputs": [],
   "source": []
  }
 ],
 "metadata": {
  "kernelspec": {
   "display_name": "Python 3",
   "language": "python",
   "name": "python3"
  },
  "language_info": {
   "codemirror_mode": {
    "name": "ipython",
    "version": 3
   },
   "file_extension": ".py",
   "mimetype": "text/x-python",
   "name": "python",
   "nbconvert_exporter": "python",
   "pygments_lexer": "ipython3",
   "version": "3.9.21"
  }
 },
 "nbformat": 4,
 "nbformat_minor": 5
}
